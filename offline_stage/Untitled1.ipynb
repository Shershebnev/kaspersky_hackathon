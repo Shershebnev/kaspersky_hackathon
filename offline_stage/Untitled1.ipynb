{
 "cells": [
  {
   "cell_type": "code",
   "execution_count": null,
   "metadata": {
    "collapsed": true,
    "deletable": true,
    "editable": true
   },
   "outputs": [],
   "source": [
    "require \"nn\";"
   ]
  },
  {
   "cell_type": "code",
   "execution_count": null,
   "metadata": {
    "collapsed": true,
    "deletable": true,
    "editable": true
   },
   "outputs": [],
   "source": [
    "BATCH_SIZE = 1000\n",
    "COLS = 56\n",
    "ROWS = 96000\n",
    "EPOCHS = 20"
   ]
  },
  {
   "cell_type": "code",
   "execution_count": null,
   "metadata": {
    "collapsed": true,
    "deletable": true,
    "editable": true
   },
   "outputs": [],
   "source": [
    "--[[\n",
    "coroutine for generating batches\n",
    "--]]\n",
    "coTrainBatchGen = coroutine.create(function()\n",
    "    local currentEpoch = 1\n",
    "    repeat\n",
    "        local csvTarget = io.open('train_labels.csv', 'r')\n",
    "        local header = csvTarget:read()\n",
    "        for targetLine in csvTarget:lines('*l') do\n",
    "            local l = targetLine:split(\",\")\n",
    "            local filename = l[1]\n",
    "            local target = l[2]\n",
    "            print(\"target is \" .. target)\n",
    "            local csvFile = io.open('train/' .. filename)\n",
    "            print(\"Reading \" .. filename)\n",
    "            for i = 1, 96000, 1000 do\n",
    "                print(\"i is \" .. i)\n",
    "                local data = torch.Tensor(BATCH_SIZE, COLS)\n",
    "                for j = 1, BATCH_SIZE do\n",
    "                    local trainLine = csvFile:read()\n",
    "                    local l2 = trainLine:split(\",\")\n",
    "                    for key, val in ipairs(l2) do\n",
    "                        data[j][key] = val\n",
    "                    end\n",
    "                end\n",
    "                local batch = {data = data, label = target}\n",
    "                coroutine.yield(batch)\n",
    "            end\n",
    "            csvFile:close()\n",
    "        end\n",
    "        csvTarget:close()\n",
    "        currentEpoch = currentEpoch + 1\n",
    "    until currentEpoch == EPOCHS\n",
    "    end\n",
    ")"
   ]
  },
  {
   "cell_type": "code",
   "execution_count": null,
   "metadata": {
    "collapsed": false,
    "deletable": true,
    "editable": true,
    "scrolled": true
   },
   "outputs": [],
   "source": [
    "mcdcnn = nn.Sequential();\n",
    "mc = nn.Parallel(2, 1);\n",
    "for i = 1,COLS do\n",
    "    local c = nn.Sequential()\n",
    "    c:add(nn.TemporalConvolution(1, 16, 128)) -- in: 1000x1, out: 873x16\n",
    "    c:add(nn.ReLU())\n",
    "    c:add(nn.TemporalMaxPooling(2)) -- out: 873 / 2 = 436\n",
    "    c:add(nn.TemporalConvolution(16, 32, 64)) -- in: 436x16, out: 373x32\n",
    "    c:add(nn.ReLU())\n",
    "    c:add(nn.TemporalMaxPooling(2)) -- 373 / 2 = 186\n",
    "--     c:add(nn.TemporalConvolution(32, 64, 32)) -- in: 186x32, out: 155x64\n",
    "--     c:add(nn.ReLU())\n",
    "--     c:add(nn.TemporalMaxPooling(2)) -- 155 / 2 = 77\n",
    "--     c:add(nn.TemporalConvolution(64, 128, 16)) -- in: 155x64, out: 140x128\n",
    "--     c:add(nn.ReLU())\n",
    "--     c:add(nn.TemporalMaxPooling(2)) -- 140 / 2 = 70\n",
    "    c:add(nn.View(186*32))\n",
    "    mc:add(c)\n",
    "end\n",
    "mcdcnn:add(mc)\n",
    "mcdcnn:add(nn.Linear(186 * 32 * COLS, 732))\n",
    "mcdcnn:add(nn.ReLU())\n",
    "mcdcnn:add(nn.Linear(732, 2))\n",
    "print(mcdcnn:__tostring());"
   ]
  },
  {
   "cell_type": "code",
   "execution_count": null,
   "metadata": {
    "collapsed": true,
    "deletable": true,
    "editable": true
   },
   "outputs": [],
   "source": [
    "criterion = nn.BCECriterion()"
   ]
  },
  {
   "cell_type": "code",
   "execution_count": null,
   "metadata": {
    "collapsed": true,
    "deletable": true,
    "editable": true
   },
   "outputs": [],
   "source": [
    "trainer = nn.StochasticGradient(mcdcnn, criterion)\n",
    "trainer.learningRate = 0.001\n",
    "trainer.maxIteration = EPOCHS"
   ]
  },
  {
   "cell_type": "code",
   "execution_count": null,
   "metadata": {
    "collapsed": true,
    "deletable": true,
    "editable": true
   },
   "outputs": [],
   "source": [
    "repeat\n",
    "    status, batch = coroutine.resume(coTrainBatchGen)\n",
    "    setmetatable(batch, \n",
    "    {__index = function(t, i) \n",
    "                    return {t.data[i], t.label[i]} \n",
    "                end}\n",
    "    );\n",
    "\n",
    "    function batch:size() \n",
    "        return self.data:size(1) \n",
    "    end\n",
    "--     mcdcnn:forward(batch.data)\n",
    "    trainer:train(batch)\n",
    "until status == false"
   ]
  }
 ],
 "metadata": {
  "kernelspec": {
   "display_name": "iTorch",
   "language": "lua",
   "name": "itorch"
  },
  "language_info": {
   "name": "lua",
   "version": "5.1"
  }
 },
 "nbformat": 4,
 "nbformat_minor": 2
}
